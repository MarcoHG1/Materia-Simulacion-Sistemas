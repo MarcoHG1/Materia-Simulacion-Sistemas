{
 "cells": [
  {
   "cell_type": "markdown",
   "metadata": {},
   "source": [
    "#### Operaciones"
   ]
  },
  {
   "cell_type": "code",
   "execution_count": 1,
   "metadata": {},
   "outputs": [
    {
     "name": "stdout",
     "output_type": "stream",
     "text": [
      "La suma es: 11\n",
      "La resta es: 3\n",
      "La multiplicación es: 28\n",
      "La división es : 1.75\n"
     ]
    }
   ],
   "source": [
    "Resul = 0\n",
    "num1 = int (input('Escribe un numero: '))\n",
    "num2 = int (input('Escribe un segundo numero: '))\n",
    "Resul = num1 + num2\n",
    "print ('La suma es: ' + str(Resul))\n",
    "Resul = num1 - num2\n",
    "print ('La resta es: ' + str(Resul))\n",
    "Resul = num1 * num2\n",
    "print ('La multiplicación es: ' + str(Resul))\n",
    "Resul = num1 / num2\n",
    "print ('La división es : ' + str(Resul))"
   ]
  },
  {
   "cell_type": "markdown",
   "metadata": {},
   "source": [
    "'f-strings'"
   ]
  },
  {
   "cell_type": "code",
   "execution_count": 2,
   "metadata": {},
   "outputs": [
    {
     "data": {
      "text/plain": [
       "'2.718'"
      ]
     },
     "execution_count": 2,
     "metadata": {},
     "output_type": "execute_result"
    }
   ],
   "source": [
    "f'2.718'"
   ]
  },
  {
   "cell_type": "code",
   "execution_count": 3,
   "metadata": {},
   "outputs": [
    {
     "data": {
      "text/plain": [
       "'2.718280'"
      ]
     },
     "execution_count": 3,
     "metadata": {},
     "output_type": "execute_result"
    }
   ],
   "source": [
    "f'2.718280'"
   ]
  },
  {
   "cell_type": "code",
   "execution_count": 4,
   "metadata": {},
   "outputs": [
    {
     "data": {
      "text/plain": [
       "'    2.72'"
      ]
     },
     "execution_count": 4,
     "metadata": {},
     "output_type": "execute_result"
    }
   ],
   "source": [
    "f'    2.72'"
   ]
  },
  {
   "cell_type": "code",
   "execution_count": 5,
   "metadata": {},
   "outputs": [
    {
     "data": {
      "text/plain": [
       "'2.718280e+00'"
      ]
     },
     "execution_count": 5,
     "metadata": {},
     "output_type": "execute_result"
    }
   ],
   "source": [
    "f'2.718280e+00'"
   ]
  },
  {
   "cell_type": "code",
   "execution_count": 6,
   "metadata": {},
   "outputs": [
    {
     "data": {
      "text/plain": [
       "'00002.7183'"
      ]
     },
     "execution_count": 6,
     "metadata": {},
     "output_type": "execute_result"
    }
   ],
   "source": [
    "f'00002.7183'"
   ]
  },
  {
   "cell_type": "code",
   "execution_count": 7,
   "metadata": {},
   "outputs": [
    {
     "data": {
      "text/plain": [
       "'            2.71828'"
      ]
     },
     "execution_count": 7,
     "metadata": {},
     "output_type": "execute_result"
    }
   ],
   "source": [
    "f'            2.71828'"
   ]
  },
  {
   "cell_type": "code",
   "execution_count": 8,
   "metadata": {},
   "outputs": [
    {
     "data": {
      "text/plain": [
       "\"('2.718', '2.718280', '    2.72', '2.718280e+00', '00002.7183', '            2.71828')\""
      ]
     },
     "execution_count": 8,
     "metadata": {},
     "output_type": "execute_result"
    }
   ],
   "source": [
    "Var1 = '2.718'\n",
    "Var2 = '2.718280'\n",
    "Var3 = '    2.72'\n",
    "Var4 = '2.718280e+00'\n",
    "Var5 = '00002.7183'\n",
    "Var6 = '            2.71828'\n",
    "\n",
    "f'{Var1, Var2, Var3, Var4, Var5, Var6}'"
   ]
  }
 ],
 "metadata": {
  "interpreter": {
   "hash": "aa05db0fcaf3703c246d5bcdac9af29cc6ee93de784b693bbd3d643749e35378"
  },
  "kernelspec": {
   "display_name": "Python 3.10.2 64-bit",
   "language": "python",
   "name": "python3"
  },
  "language_info": {
   "codemirror_mode": {
    "name": "ipython",
    "version": 3
   },
   "file_extension": ".py",
   "mimetype": "text/x-python",
   "name": "python",
   "nbconvert_exporter": "python",
   "pygments_lexer": "ipython3",
   "version": "3.10.2"
  },
  "orig_nbformat": 4
 },
 "nbformat": 4,
 "nbformat_minor": 2
}
