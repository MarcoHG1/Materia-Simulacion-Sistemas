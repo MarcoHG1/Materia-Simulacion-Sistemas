{
 "cells": [
  {
   "cell_type": "markdown",
   "metadata": {},
   "source": [
    "Ejercicio Hamming "
   ]
  },
  {
   "cell_type": "code",
   "execution_count": 1,
   "metadata": {},
   "outputs": [
    {
     "name": "stdout",
     "output_type": "stream",
     "text": [
      "1\n"
     ]
    }
   ],
   "source": [
    "palabra1 = input ('Escibre una cadena de bits: ')\n",
    "palabra2 = input ('Escribe una segunda cadena de bits: ')\n",
    "contador = 0\n",
    "cicloPalabra2 = 0\n",
    "\n",
    "for letra in palabra1:\n",
    "    if letra != palabra2[cicloPalabra2]:\n",
    "        contador = contador + 1 \n",
    "    cicloPalabra2 = cicloPalabra2 + 1\n",
    "\n",
    "print(contador)"
   ]
  }
 ],
 "metadata": {
  "interpreter": {
   "hash": "aa05db0fcaf3703c246d5bcdac9af29cc6ee93de784b693bbd3d643749e35378"
  },
  "kernelspec": {
   "display_name": "Python 3.10.2 64-bit",
   "language": "python",
   "name": "python3"
  },
  "language_info": {
   "codemirror_mode": {
    "name": "ipython",
    "version": 3
   },
   "file_extension": ".py",
   "mimetype": "text/x-python",
   "name": "python",
   "nbconvert_exporter": "python",
   "pygments_lexer": "ipython3",
   "version": "3.10.2"
  },
  "orig_nbformat": 4
 },
 "nbformat": 4,
 "nbformat_minor": 2
}
