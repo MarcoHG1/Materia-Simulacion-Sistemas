{
 "cells": [
  {
   "cell_type": "markdown",
   "metadata": {},
   "source": [
    "Ejercicio año bisiesto"
   ]
  },
  {
   "cell_type": "code",
   "execution_count": null,
   "metadata": {},
   "outputs": [],
   "source": [
    "year = int (input('Escribe un año gregoriano: '))\n",
    "\n",
    "if (year % 4 == 0) & (year % 100 != 0):\n",
    "    print('Es un año bisiesto')\n",
    "else:\n",
    "    print('No es un año bisiesto')"
   ]
  },
  {
   "cell_type": "markdown",
   "metadata": {},
   "source": [
    "Ejercicio Superheroes"
   ]
  },
  {
   "cell_type": "code",
   "execution_count": null,
   "metadata": {},
   "outputs": [],
   "source": [
    "Marvel = input('Can fly?  true / false')\n",
    "if Marvel == 'true':\n",
    "    Marvel = input('Is human? true / false')\n",
    "    if Marvel == 'true':\n",
    "        Marvel = input('Has mask? true / false')\n",
    "        if Marvel == 'true':\n",
    "            print('IronMan')\n",
    "        else:\n",
    "            print('Captain Marvel')\n",
    "    elif Marvel == 'false':\n",
    "        Marvel = input('Has mask? true / false')\n",
    "        if Marvel == 'true':\n",
    "            print('Ronan Accuser')\n",
    "        elif Marvel == 'false':\n",
    "            print('Vision')\n",
    "elif Marvel == 'false':\n",
    "    Marvel = input('Is human? true / false')\n",
    "    if Marvel == 'true':\n",
    "        Marvel = input('Has mask? true / false')\n",
    "        if Marvel == 'true':\n",
    "            print('Spiderman')\n",
    "        else:\n",
    "            print('Hulk')\n",
    "    elif Marvel == 'false':\n",
    "        Marvel = input('Has mask? true / false')\n",
    "        if Marvel == 'true':\n",
    "            print('Black Bolt')\n",
    "        elif Marvel == 'false':\n",
    "            print('Thanos')"
   ]
  },
  {
   "cell_type": "markdown",
   "metadata": {},
   "source": [
    "Ejercicio Donar sangre"
   ]
  },
  {
   "cell_type": "code",
   "execution_count": null,
   "metadata": {},
   "outputs": [],
   "source": [
    "edad = int (input ('¿Cual es tu Edad?'))\n",
    "peso = int (input ('¿Cual es tu Peso?'))\n",
    "pulso = int (input ('¿Cual es tu Pulso?'))\n",
    "plaquetas = int (input ('¿Cuales son tus Plaquetas?'))\n",
    "\n",
    "if (edad == 34) and (peso == 81) and (pulso == 70) and (plaquetas == 150000):\n",
    "    print('Apto para donar sangre')\n",
    "else:\n",
    "    print('NO ES APTO')"
   ]
  }
 ],
 "metadata": {
  "language_info": {
   "name": "python"
  },
  "orig_nbformat": 4
 },
 "nbformat": 4,
 "nbformat_minor": 2
}
